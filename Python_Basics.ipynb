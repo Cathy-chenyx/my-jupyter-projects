{
 "cells": [
  {
   "cell_type": "code",
   "execution_count": null,
   "id": "c51c1d7e-a9f5-4bd9-8a5c-8c5908d0ae8c",
   "metadata": {},
   "outputs": [],
   "source": [
    "# 代码单元格\n",
    "print(\"Hello Jupyter World!\")\n",
    "import numpy as np\n",
    "np.random.rand(3, 3)\n",
    "\n"
   ]
  },
  {
   "cell_type": "code",
   "execution_count": null,
   "id": "17e05498-d380-4b6f-b3f7-ed55f79b6475",
   "metadata": {},
   "outputs": [],
   "source": [
    "# Markdown 单元格\n",
    "## 今日学习目标\n",
    "- [x] 安装Anaconda\n",
    "- [ ] 学习Pandas基础\n",
    "- [ ] 完成第一个数据分析"
   ]
  }
 ],
 "metadata": {
  "kernelspec": {
   "display_name": "Python [conda env:base] *",
   "language": "python",
   "name": "conda-base-py"
  },
  "language_info": {
   "codemirror_mode": {
    "name": "ipython",
    "version": 3
   },
   "file_extension": ".py",
   "mimetype": "text/x-python",
   "name": "python",
   "nbconvert_exporter": "python",
   "pygments_lexer": "ipython3",
   "version": "3.13.5"
  }
 },
 "nbformat": 4,
 "nbformat_minor": 5
}
